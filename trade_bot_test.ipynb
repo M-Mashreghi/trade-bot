{
 "cells": [
  {
   "cell_type": "code",
   "execution_count": 32,
   "metadata": {},
   "outputs": [
    {
     "name": "stderr",
     "output_type": "stream",
     "text": [
      "error while signin\n",
      "you are using nologin method, data you access may be limited\n"
     ]
    }
   ],
   "source": [
    "from tvDatafeed import TvDatafeed, Interval\n",
    "import pandas as pd\n",
    "import numpy as np\n",
    "from datetime import datetime\n",
    "import time\n",
    "import MetaTrader5 as mt5\n",
    "# Initialize the bound\n",
    "mt5.initialize()\n",
    "\n",
    "# Set the symbol\n",
    "symbol = \"XAUUSD\"\n",
    "import pygame\n",
    "\n",
    "pygame.init()\n",
    "\n",
    "sound_file = \"message-ringtone-magic.mp3\"  # Replace with the path to your sound file\n",
    "pygame.mixer.music.load(sound_file)\n",
    "\n",
    "# Set filling mode\n",
    "filling_type = mt5.symbol_info(symbol).filling_mode\n",
    "\n",
    "# Set the point\n",
    "point = mt5.symbol_info(symbol).point\n",
    "\n",
    "username = 'amiramirmashgh'\n",
    "password = '1234Asdf'\n",
    "\n",
    "tv = TvDatafeed(username, password)"
   ]
  },
  {
   "cell_type": "code",
   "execution_count": 33,
   "metadata": {},
   "outputs": [
    {
     "name": "stderr",
     "output_type": "stream",
     "text": [
      "error while signin\n",
      "you are using nologin method, data you access may be limited\n"
     ]
    }
   ],
   "source": [
    "\n",
    "tv = TvDatafeed(username, password)"
   ]
  },
  {
   "cell_type": "code",
   "execution_count": 34,
   "metadata": {},
   "outputs": [],
   "source": [
    "def extract_signal(df_XUD):\n",
    "    if df_XUD[\"finall_desions\"][199] == \"buy\" or df_XUD[\"finall_desions\"][199] == \"buy_half\" :\n",
    "        return 1\n",
    "    elif df_XUD[\"finall_desions\"][199] == \"sell\" or df_XUD[\"finall_desions\"][199] == \"sell_half\" :\n",
    "        return -1\n",
    "    else :\n",
    "        return 0"
   ]
  },
  {
   "cell_type": "code",
   "execution_count": 35,
   "metadata": {},
   "outputs": [],
   "source": [
    "def duplicate_signal(df_XUD):\n",
    "    if df_XUD[\"finall_desions\"][199] == df_XUD[\"finall_desions\"][198] or df_XUD[\"finall_desions\"][199] == df_XUD[\"finall_desions\"][197] or df_XUD[\"finall_desions\"][199] == df_XUD[\"finall_desions\"][196]:\n",
    "        print(\"dup True\")\n",
    "        return True\n",
    "    else:\n",
    "        print(\"dup False\")\n",
    "        return False\n",
    "    \n",
    "    print(\"dup error\")\n",
    "    return False\n"
   ]
  },
  {
   "cell_type": "code",
   "execution_count": 36,
   "metadata": {},
   "outputs": [],
   "source": [
    "def change_candle(df_XUD):\n",
    "    if df_XUD[\"inside candle (rule 1)\"][199] == \"buy\":\n",
    "        print(\"inside candle (rule 1) , buy\" ,df_XUD[\"inside candle (rule 1)\"][199] == \"buy\" )\n",
    "        if df_XUD[\"finall_desions\"][198] == \"sell\" or df_XUD[\"finall_desions\"][197] == \"sell\" or df_XUD[\"finall_desions\"][196] == \"sell\" :\n",
    "            print(\"Oh noooooo\")\n",
    "            return True\n",
    "        else:\n",
    "            print(\"mew0 ohhhh\")\n",
    "            return False\n",
    "    elif df_XUD[\"inside candle (rule 1)\"][199] == \"sell\":\n",
    "        print(\"inside candle (rule 1) , sell\" ,df_XUD[\"inside candle (rule 1)\"][199] == \"sell\" )\n",
    "        if df_XUD[\"finall_desions\"][198] == \"buy\" or df_XUD[\"finall_desions\"][197] == \"buy\" or df_XUD[\"finall_desions\"][196] == \"buy\" :\n",
    "            print(\"Oh noooo\")\n",
    "            return True\n",
    "        else:\n",
    "            print(\"mew0 oh\")\n",
    "            return False\n",
    "        \n",
    "    print(\"dup erroaaaaaaar\")\n",
    "    return False"
   ]
  },
  {
   "cell_type": "code",
   "execution_count": 37,
   "metadata": {},
   "outputs": [],
   "source": [
    "def Cancel_Order(info_order):\n",
    "    # REMOVE PENDING ORDER\n",
    "    print(\"Cancel order\")\n",
    "    request = {\n",
    "         \"action\" : mt5.TRADE_ACTION_REMOVE ,\n",
    "          \"order\" : info_order.order ,\n",
    "    }\n",
    "    mt5.order_send(request)\n"
   ]
  },
  {
   "cell_type": "code",
   "execution_count": 38,
   "metadata": {},
   "outputs": [
    {
     "name": "stdout",
     "output_type": "stream",
     "text": [
      "meow 51 buy\n",
      "dup False\n",
      "dup False\n",
      "meow1 False\n",
      "inside candle (rule 1) , buy True\n",
      "Oh noooooo\n",
      "cancel _ mewo\n"
     ]
    },
    {
     "ename": "UnboundLocalError",
     "evalue": "cannot access local variable 'info_order' where it is not associated with a value",
     "output_type": "error",
     "traceback": [
      "\u001b[1;31m---------------------------------------------------------------------------\u001b[0m",
      "\u001b[1;31mUnboundLocalError\u001b[0m                         Traceback (most recent call last)",
      "Cell \u001b[1;32mIn[38], line 41\u001b[0m\n\u001b[0;32m     39\u001b[0m counter \u001b[39m=\u001b[39m \u001b[39m0\u001b[39m\n\u001b[0;32m     40\u001b[0m \u001b[39mif\u001b[39;00m \u001b[39m__name__\u001b[39m \u001b[39m==\u001b[39m \u001b[39m\"\u001b[39m\u001b[39m__main__\u001b[39m\u001b[39m\"\u001b[39m :\n\u001b[1;32m---> 41\u001b[0m     main()\n",
      "Cell \u001b[1;32mIn[38], line 18\u001b[0m, in \u001b[0;36mmain\u001b[1;34m()\u001b[0m\n\u001b[0;32m     16\u001b[0m         \u001b[39melse\u001b[39;00m :\n\u001b[0;32m     17\u001b[0m            \u001b[39mprint\u001b[39m(\u001b[39m\"\u001b[39m\u001b[39mcancel _ mewo\u001b[39m\u001b[39m\"\u001b[39m)\n\u001b[1;32m---> 18\u001b[0m            Cancel_Order(info_order)\n\u001b[0;32m     20\u001b[0m   \u001b[39m# check open positions\u001b[39;00m\n\u001b[0;32m     21\u001b[0m \u001b[39m#is_time=True #Only to run the trading NOW\u001b[39;00m\n\u001b[0;32m     22\u001b[0m   \u001b[39mif\u001b[39;00m signal \u001b[39m!=\u001b[39m \u001b[39m0\u001b[39m:\n",
      "\u001b[1;31mUnboundLocalError\u001b[0m: cannot access local variable 'info_order' where it is not associated with a value"
     ]
    }
   ],
   "source": [
    "def main():\n",
    "    while(True):\n",
    "      signal = 0 \n",
    "      current_time = datetime.now()\n",
    "      minutes =int(str(current_time.minute))%5\n",
    "      df = pd.read_csv(r\"H:\\MetaTrader-5-AUTOMATED-TRADING-using-Python-main\\gold.csv\")\n",
    "      # Check don't have duplicate signal\n",
    "      if df[\"finall_desions\"].iloc[-1] != \"no action\":\n",
    "         print(\"meow\", current_time.minute  ,  df[\"finall_desions\"].iloc[199] )\n",
    "         if  duplicate_signal(df) == False:\n",
    "            print(\"meow1\",duplicate_signal(df))\n",
    "            # Create the signals\n",
    "            if change_candle(df) == False:\n",
    "               signal =  extract_signal(df)\n",
    "               print(\"sssss\")\n",
    "            else :\n",
    "               print(\"cancel _ mewo\")\n",
    "               Cancel_Order(info_order)\n",
    "\n",
    "      # check open positions\n",
    "    #is_time=True #Only to run the trading NOW\n",
    "      if signal != 0:\n",
    "        symbol = \"XAUUSD\"\n",
    "        lot = 1  \n",
    "        # Create the signals\n",
    "        pygame.mixer.music.play()\n",
    "        if signal == 1:\n",
    "           info_order = buy_signal( df[\"entry_buy\"][199],df[\"TP_buy\"][199],df[\"SL_buy\"][199] )\n",
    "           open_order_time = datetime.now()\n",
    "           print(\"open sell position\" , open_order_time.hour , open_order_time.minute)\n",
    "        elif signal == -1:\n",
    "            info_order = sell_signal( df[\"entry_sell\"][199],df[\"TP_sell\"][199],df[\"SL_sell\"][199] )\n",
    "            open_order_time = datetime.now()\n",
    "            print(\"open sell position\" , open_order_time.hour , open_order_time.minute)\n",
    "        # Run the algorithm\n",
    "\n",
    "      time.sleep(20)\n",
    "\n",
    "counter = 0\n",
    "if __name__ == \"__main__\" :\n",
    "    main()"
   ]
  },
  {
   "cell_type": "code",
   "execution_count": null,
   "metadata": {},
   "outputs": [],
   "source": []
  }
 ],
 "metadata": {
  "kernelspec": {
   "display_name": "Python 3",
   "language": "python",
   "name": "python3"
  },
  "language_info": {
   "codemirror_mode": {
    "name": "ipython",
    "version": 3
   },
   "file_extension": ".py",
   "mimetype": "text/x-python",
   "name": "python",
   "nbconvert_exporter": "python",
   "pygments_lexer": "ipython3",
   "version": "3.11.4"
  },
  "orig_nbformat": 4
 },
 "nbformat": 4,
 "nbformat_minor": 2
}
